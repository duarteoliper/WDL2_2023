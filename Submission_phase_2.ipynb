{
  "cells": [
    {
      "attachments": {},
      "cell_type": "markdown",
      "metadata": {
        "id": "Is1th3sXsLqf"
      },
      "source": [
        "# World Data League 2022"
      ]
    },
    {
      "attachments": {},
      "cell_type": "markdown",
      "metadata": {
        "id": "94NlB4NxwLra"
      },
      "source": [
        "## 🎯 Challenge\n",
        "Avencas Marine Protected Area: Predict the future of the local ecosystem and its species\n"
      ]
    },
    {
      "attachments": {},
      "cell_type": "markdown",
      "metadata": {},
      "source": [
        "<img src=\"wdl_2023.png\" alt=\"MoMoneyMoModels_Badge_whitebackground.png\" style=\"width:35%\">"
      ]
    },
    {
      "attachments": {},
      "cell_type": "markdown",
      "metadata": {
        "id": "JeP6xkRIBJco"
      },
      "source": [
        "## Team: Mo Money, Mo Models\n",
        "## 👥 Authors\n",
        "* David Raposo\n",
        "* Duarte Pereira\n",
        "* Martim Chaves\n",
        "* Paulo Sousa\n"
      ]
    },
    {
      "attachments": {},
      "cell_type": "markdown",
      "metadata": {
        "id": "C8rCpNajszur"
      },
      "source": [
        "## 💻 Development\n",
        "Start coding here! 🐱‍🏍\n",
        "\n",
        "Create the necessary subsections (e.g. EDA, different experiments, etc..) and markdown cells to include descriptions of your work where you see fit. Comment your code. \n",
        "\n",
        "All new subsections must start with three hash characters. More specifically, don't forget to explore the following:\n",
        "1. Assess the data quality\n",
        "2. Make sure you have a good EDA where you enlist all the insights\n",
        "3. Explain the process for feature engineering and cleaning\n",
        "4. Discuss the model / technique(s) selection\n",
        "5. Don't forget to explore model interpretability and fairness or justify why it is not needed\n",
        "\n",
        "Pro-tip 1: Don't forget to make the jury's life easier. Remove any unnecessary prints before submitting the work. Hide any long output cells (from training a model for example). For each subsection, have a quick introduction (justifying what you are about to do) and conclusion (results you got from what you did). \n",
        "\n",
        "Pro-tip 2: Have many similiar graphs which all tell the same story? Add them to the appendix and show only a couple of examples, with the mention that all the others are in the appendix.\n",
        "\n",
        "Pro-tip 3: Don't forget to have a motivate all of your choices, these can be: Data-driven, constraints-driven, literature-driven or a combination of any. For example, why did you choose to test certain algorithms or why only one."
      ]
    },
    {
      "attachments": {},
      "cell_type": "markdown",
      "metadata": {
        "id": "J4jPpcKOutZ5"
      },
      "source": [
        "### Introduction"
      ]
    },
    {
      "attachments": {},
      "cell_type": "markdown",
      "metadata": {},
      "source": [
        "#### The place\n",
        "\n",
        "Avencas, near Lisbon, Portugal, was classified as a Biophysical Interest Zone (ZIBA) in 1998 due to its **high intertidal biodiversity**.\n",
        "\n",
        "This classification **sparked controversy and conflict with locals**, leading to **non-compliance** with regulations. In 2016, after concerted efforts from local authorities, Avencas was reclassified as a Marine Protected Area (MPA). Marine Protected Areas (MPAs) constitute coastal management tools that aim to mitigate threats to the functioning of the areas and can be planned according to diﬀerent speciﬁc objectives.\n",
        "\n",
        "Along with the reclassification, **public participation sessions and environmental awareness** activities were carried out, **improving regulation compliance**, particularly within the **fishing community**.\n",
        "\n",
        "Certain activities, including aquaculture, water motor sports, fishing, and collection of animals, are prohibited unless authorized for scientific studies. (From Ferreira et al. 2017)\n",
        "\n",
        "#### A Success Story\n",
        "\n",
        "\"[...] user management actions have been created including visitors’ pathways through the rocky platforms and information spots displaying signs with area specific rules at the entrance to the beach. Positive results point to the success of this approach, as visitors either agreed or respected the various management actions implemented. A survey showed that 84% of visitors look favorable upon the information spots and 76% agree with the location of the access pathways. \" (Challenge Brief)\n",
        "\n",
        "#### A Problem Arises...\n",
        "\n",
        "But... \"The local usages are now under control, [...] allowing for a decrease in the anthropogenic stress of this small MPA, so in theory the intertidal ecosystem should be recovering at a faster rate than what is being recorded by our teams of biologists.\" In other words: locals are now not adding stress to the MPA. But, it's still not recovering as fast as we expected. So, some other factors are probably at play here, likely related to the global changes to the climate that we are witnessing.\n",
        "\n",
        "#### The Solution\n",
        "\n",
        "Knowing this, a great tool to further improve the biodiversity, and assure the health and sustainability of the Avencas MPA, would be an **interactive app** that could visually represent the sessile species coverage in the MPA, and informs the locals and the general populace of how important sessile species are for the Avencas MPA.\n",
        "\n",
        "This could be in the form of an **interactive, sea-side screen**, and an **online web app**.\n",
        "\n",
        "The **goal** of this app would be to, **beyond the specific Avencas MPA**, captivate people, locals and non-locals, to how important marine life can be, and to incentivize them to become **champions of environmentally friendly causes**, so that they may pressure policy makers, and contribute towards meaningful, large scale, change.\n",
        "\n",
        "Sessile species highly contribute towards MPAs, in several ways. Here's some that could be emphasized:\n",
        "\n",
        "* Biodiversity: Our ocean is amazing - it's a home for all sorts of sessile organims like algae, coral, and even sea slugs! All of these different being create complex neighboorhoods that host a wild variety of life. Some call corals \"rainforests of the sea\", as they're teeming with fascinating biodiversity!\n",
        "\n",
        "* Food Source: Each being plays a part in these complex neighboorhouds down under the sea. Some are treats for other larger beings, like algae, mussels, and barnacles, while other act as an amazing clean-up crew, like the amazing fungi. Each being is important, as each is a key element to the assurance of the marina areas, keeping the ocean clean and healthy!\n",
        "\n",
        "* Carbon Sequestration: Also, another major role that algae and coral play is when it come to sucking up carbon dioxide and giving oxygen in return, aiding us in fighting climate change. Besides being pretty, they're also working hard to keep our planet cooool.\n",
        "\n",
        "(\"Marine Biology: An Ecological Approach\" by Nybakken and Bertness, \"Dynamics of Marine Ecosystems: Biological-Physical Interactions in the Oceans\" by Mann and Lazier)\n",
        "\n",
        "But first... let's look at the data that we have at hand!"
      ]
    },
    {
      "attachments": {},
      "cell_type": "markdown",
      "metadata": {},
      "source": [
        "### EDA"
      ]
    },
    {
      "attachments": {},
      "cell_type": "markdown",
      "metadata": {},
      "source": [
        "#### 1.1. Data Profiling\n",
        "\n",
        "Examining the structure, contents, and basic statistics of the dataset. "
      ]
    },
    {
      "cell_type": "code",
      "execution_count": 2,
      "metadata": {
        "id": "afB4W0KnutpV"
      },
      "outputs": [],
      "source": [
        "# Relevant Imports\n",
        "import pandas as pd\n",
        "import os"
      ]
    },
    {
      "cell_type": "code",
      "execution_count": 5,
      "metadata": {
        "id": "LQ90XveiBN6A"
      },
      "outputs": [
        {
          "name": "stdout",
          "output_type": "stream",
          "text": [
            "['Sessil (% Coverage)', ' Mobil (nº individuals)', 'Invasive_conservat species list']\n"
          ]
        }
      ],
      "source": [
        "data_path = os.path.join(\"data\", \"raw\", \"files_WDL\", \"cascais_data\", \"AMPA_Data_Sample.xlsx\")\n",
        "\n",
        "with pd.ExcelFile(data_path) as xls:\n",
        "    sheet_names = xls.sheet_names          \n",
        "\n",
        "print(sheet_names) "
      ]
    },
    {
      "attachments": {},
      "cell_type": "markdown",
      "metadata": {},
      "source": [
        "Our main dataset has 3 sheets.\n",
        "\n",
        "Opening each sheet, visually, we can understand that:\n",
        "1. 'Sessil (% Coverage)' focuses on sessile species, i.e. species that fixate on a substracte. It contains measures of percentage of coverage for each specie being analysed for a random \"quadrat\" in one of five sectors of the MPA. These measures seem to be taken sporadically, around a couple of times per month, over the span of many years, from 2011 to 2020.\n",
        "2. ' Mobil (nº individuals)' is similar to the previous sheet, but contains only mobile species.\n",
        "3. 'Invasive_conservat species list' dictates which species are invasive, and which are under risk of extinction."
      ]
    },
    {
      "cell_type": "code",
      "execution_count": 26,
      "metadata": {},
      "outputs": [],
      "source": [
        "sessil_df = pd.read_excel(data_path, sheet_name=sheet_names[0])\n",
        "mobile_df = pd.read_excel(data_path, sheet_name=sheet_names[1])\n",
        "invsve_df = pd.read_excel(data_path, sheet_name=sheet_names[2])"
      ]
    },
    {
      "attachments": {},
      "cell_type": "markdown",
      "metadata": {},
      "source": [
        "Visually, it has been understood that there are some columns that are not relevant to us, and that can be dropped.\n",
        "They are information about who took the sample, and two extra columns that contain no information. So, let's get rid of them! :)"
      ]
    },
    {
      "cell_type": "code",
      "execution_count": 27,
      "metadata": {},
      "outputs": [],
      "source": [
        "columns_to_drop_sessil = ['Sampler', 'Coluna1', 'Coluna2']\n",
        "columns_to_drop_mobile = ['Sampler', 'Column1', 'Column2', 'Column3']\n",
        "\n",
        "sessil_df = sessil_df.drop(columns_to_drop_sessil, axis=1)\n",
        "mobile_df = mobile_df.drop(columns_to_drop_mobile, axis=1)"
      ]
    },
    {
      "attachments": {},
      "cell_type": "markdown",
      "metadata": {},
      "source": [
        "Let's get a general idea of what we're dealing with..."
      ]
    },
    {
      "cell_type": "code",
      "execution_count": 6,
      "metadata": {},
      "outputs": [],
      "source": [
        "def initial_data_profiling(data: pd.DataFrame):\n",
        "    # Get the data types of each column\n",
        "    data_types = data.dtypes\n",
        "\n",
        "    # Get the summary statistics of the DataFrame\n",
        "    summary_stats = data.describe()\n",
        "\n",
        "    # Get the number of missing values in each column\n",
        "    missing_values = data.isnull().sum()\n",
        "\n",
        "    # Get the unique values in each column\n",
        "    unique_values = data.nunique()\n",
        "\n",
        "    # Display the data profiling information\n",
        "    print(\"Data Types:\")\n",
        "    print(data_types)\n",
        "    print(\"\\nSummary Statistics:\")\n",
        "    print(summary_stats)\n",
        "    print(\"\\nMissing Values:\")\n",
        "    print(missing_values)\n",
        "    print(\"\\nUnique Values:\")\n",
        "    print(unique_values)"
      ]
    },
    {
      "cell_type": "code",
      "execution_count": 19,
      "metadata": {},
      "outputs": [
        {
          "name": "stdout",
          "output_type": "stream",
          "text": [
            "Sessile\n",
            "Data Types:\n",
            "Date                                        datetime64[ns]\n",
            "Hour                                                object\n",
            "Tide                                               float64\n",
            "Weather Condition                                   object\n",
            "Water temperature (ºC)                              object\n",
            "                                                 ...      \n",
            "Sphacelaria rigidula (pompons castanhos)           float64\n",
            "Cystoseira sp.                                      object\n",
            "Laminaria sp.                                      float64\n",
            "TOTAL2                                              object\n",
            "observações                                         object\n",
            "Length: 102, dtype: object\n",
            "\n",
            "Summary Statistics:\n",
            "              Tide  Siphonaria algesirae  Gibbula sp.  Monodonta lineata  \\\n",
            "count  2010.000000           2010.000000  2010.000000        2010.000000   \n",
            "mean      0.729035              0.237736     0.290647           0.128532   \n",
            "std       0.184047              0.914012     0.882766           0.687898   \n",
            "min       0.300000              0.000000     0.000000           0.000000   \n",
            "25%       0.600000              0.000000     0.000000           0.000000   \n",
            "50%       0.700000              0.000000     0.000000           0.000000   \n",
            "75%       0.900000              0.000000     0.200000           0.000000   \n",
            "max       2.400000             18.600000    13.000000          15.200000   \n",
            "\n",
            "       Littorina neritoides  Mytillus sp.  Nassariidae (búzio)   Chiton sp.  \\\n",
            "count           2010.000000   2010.000000          2010.000000  2010.000000   \n",
            "mean               0.165035      1.030075             0.008905     0.001741   \n",
            "std                0.746313      3.628247             0.080598     0.067243   \n",
            "min                0.000000      0.000000             0.000000     0.000000   \n",
            "25%                0.000000      0.000000             0.000000     0.000000   \n",
            "50%                0.000000      0.000000             0.000000     0.000000   \n",
            "75%                0.000000      0.100000             0.000000     0.000000   \n",
            "max               21.000000     66.000000             2.400000     3.000000   \n",
            "\n",
            "       Pollicipes pollicipes  Actinia equina   ...  Dictyota castanha  \\\n",
            "count                 2010.0      2010.000000  ...        2010.000000   \n",
            "mean                     0.0         0.175597  ...           0.011692   \n",
            "std                      0.0         0.755401  ...           0.120508   \n",
            "min                      0.0         0.000000  ...           0.000000   \n",
            "25%                      0.0         0.000000  ...           0.000000   \n",
            "50%                      0.0         0.000000  ...           0.000000   \n",
            "75%                      0.0         0.000000  ...           0.000000   \n",
            "max                      0.0        10.000000  ...           3.000000   \n",
            "\n",
            "       Alga castanha sp.  Alga castanha laminada  Alga castanha filamentosa  \\\n",
            "count        2010.000000             2010.000000                2010.000000   \n",
            "mean            0.000498                0.006965                   0.114179   \n",
            "std             0.015768                0.137933                   1.986779   \n",
            "min             0.000000                0.000000                   0.000000   \n",
            "25%             0.000000                0.000000                   0.000000   \n",
            "50%             0.000000                0.000000                   0.000000   \n",
            "75%             0.000000                0.000000                   0.000000   \n",
            "max             0.500000                4.000000                  75.000000   \n",
            "\n",
            "       Alga castanha incrustante  Alga castanha carnuda  Alga castanha tufosa  \\\n",
            "count                2010.000000            2010.000000           2010.000000   \n",
            "mean                    0.004229               0.000348              0.031393   \n",
            "std                     0.088441               0.009719              0.785327   \n",
            "min                     0.000000               0.000000              0.000000   \n",
            "25%                     0.000000               0.000000              0.000000   \n",
            "50%                     0.000000               0.000000              0.000000   \n",
            "75%                     0.000000               0.000000              0.000000   \n",
            "max                     3.000000               0.300000             26.000000   \n",
            "\n",
            "       Alga verde/azul - lavanda  Sphacelaria rigidula (pompons castanhos)  \\\n",
            "count                2010.000000                               2010.000000   \n",
            "mean                    0.001493                                  0.874527   \n",
            "std                     0.049866                                  4.862588   \n",
            "min                     0.000000                                  0.000000   \n",
            "25%                     0.000000                                  0.000000   \n",
            "50%                     0.000000                                  0.000000   \n",
            "75%                     0.000000                                  0.000000   \n",
            "max                     2.000000                                 80.000000   \n",
            "\n",
            "       Laminaria sp.  \n",
            "count    2010.000000  \n",
            "mean        0.003980  \n",
            "std         0.141048  \n",
            "min         0.000000  \n",
            "25%         0.000000  \n",
            "50%         0.000000  \n",
            "75%         0.000000  \n",
            "max         6.000000  \n",
            "\n",
            "[8 rows x 87 columns]\n",
            "\n",
            "Missing Values:\n",
            "Date                                           1\n",
            "Hour                                           1\n",
            "Tide                                           1\n",
            "Weather Condition                              1\n",
            "Water temperature (ºC)                         9\n",
            "                                            ... \n",
            "Sphacelaria rigidula (pompons castanhos)       1\n",
            "Cystoseira sp.                                 1\n",
            "Laminaria sp.                                  1\n",
            "TOTAL2                                         0\n",
            "observações                                 1536\n",
            "Length: 102, dtype: int64\n",
            "\n",
            "Unique Values:\n",
            "Date                                        193\n",
            "Hour                                         43\n",
            "Tide                                         41\n",
            "Weather Condition                             6\n",
            "Water temperature (ºC)                       35\n",
            "                                           ... \n",
            "Sphacelaria rigidula (pompons castanhos)     38\n",
            "Cystoseira sp.                               11\n",
            "Laminaria sp.                                 3\n",
            "TOTAL2                                      857\n",
            "observações                                  66\n",
            "Length: 102, dtype: int64\n"
          ]
        }
      ],
      "source": [
        "print(\"Sessile\")\n",
        "initial_data_profiling(sessil_df)"
      ]
    },
    {
      "cell_type": "code",
      "execution_count": 23,
      "metadata": {},
      "outputs": [
        {
          "name": "stdout",
          "output_type": "stream",
          "text": [
            "Number of columns (sessile): 102\n",
            "Number of columns (mobil): 67\n",
            "Number of columns (invasice): 10\n"
          ]
        }
      ],
      "source": [
        "print(f\"Number of columns (sessile): {len(sessil_df.columns)}\")\n",
        "print(f\"Number of columns (mobil): {len(mobile_df.columns)}\")\n",
        "print(f\"Number of columns (invasice): {len(invsve_df.columns)}\")"
      ]
    },
    {
      "attachments": {},
      "cell_type": "markdown",
      "metadata": {},
      "source": [
        "This isn't particularly useful... What's happening is that there are a lot of different species. So it's a bit difficult to accurately get an idea of the data using simple describe methods. We're dealing with 102 columns for the sessile df, and 67 columns for the mobil one.\n",
        "\n",
        "To deal with this, let's separate the dataframes into information about the samples, and the information about the species in the samples themselves.\n",
        "\n",
        "This way, we'll be able to get an idea regarding the meta-information of the samples (how often were they taken, what were the hours of the day when they were taken, and so on), and an idea regarding the information of the species themselves (although a general idea, not a specie by specie level idea).\n",
        "\n",
        "We'll leave the ivasive lists analysis for last."
      ]
    },
    {
      "cell_type": "code",
      "execution_count": 24,
      "metadata": {},
      "outputs": [],
      "source": [
        "# List of columns that represent sample information (excluding species columns)\n",
        "sessil_meta_info_columns = ['Date', 'Hour', 'Tide', 'Weather Condition',\n",
        "                            'Water temperature (ºC)', 'Zone',\n",
        "                            'Supratidal/Middle Intertidal', 'Substrate',\n",
        "                            'TOTAL2', 'observações']\n",
        "\n",
        "mobile_meta_info_columns = ['Date', 'Hour', 'Tide', 'Weather Condition',\n",
        "                            'Water temperature (ºC)', 'Zone',\n",
        "                            'Supratidal/Middle Intertidal', 'Substrate',\n",
        "                            'TOTAL', 'Abundance (ind/m2)']"
      ]
    },
    {
      "cell_type": "code",
      "execution_count": 28,
      "metadata": {},
      "outputs": [],
      "source": [
        "# Create the meta_info_df DataFrame with sample information\n",
        "sessil_meta_info_df = sessil_df[sessil_meta_info_columns]\n",
        "mobile_meta_info_df = mobile_df[mobile_meta_info_columns]\n",
        "\n",
        "# Create the species_info_df DataFrame with species information\n",
        "sessil_species_info_df = sessil_df.drop(columns=sessil_meta_info_columns)\n",
        "mobile_species_info_df = mobile_df.drop(columns=mobile_meta_info_columns)\n",
        "\n",
        "# Delete original df to free up memory\n",
        "del sessil_df\n",
        "del mobile_df"
      ]
    },
    {
      "cell_type": "code",
      "execution_count": 29,
      "metadata": {},
      "outputs": [
        {
          "name": "stdout",
          "output_type": "stream",
          "text": [
            "Analysis of Sessil samples' meta info\n",
            "Data Types:\n",
            "Date                            datetime64[ns]\n",
            "Hour                                    object\n",
            "Tide                                   float64\n",
            "Weather Condition                       object\n",
            "Water temperature (ºC)                  object\n",
            "Zone                                    object\n",
            "Supratidal/Middle Intertidal            object\n",
            "Substrate                               object\n",
            "TOTAL2                                  object\n",
            "observações                             object\n",
            "dtype: object\n",
            "\n",
            "Summary Statistics:\n",
            "              Tide\n",
            "count  2010.000000\n",
            "mean      0.729035\n",
            "std       0.184047\n",
            "min       0.300000\n",
            "25%       0.600000\n",
            "50%       0.700000\n",
            "75%       0.900000\n",
            "max       2.400000\n",
            "\n",
            "Missing Values:\n",
            "Date                               1\n",
            "Hour                               1\n",
            "Tide                               1\n",
            "Weather Condition                  1\n",
            "Water temperature (ºC)             9\n",
            "Zone                               1\n",
            "Supratidal/Middle Intertidal       1\n",
            "Substrate                         11\n",
            "TOTAL2                             0\n",
            "observações                     1536\n",
            "dtype: int64\n",
            "\n",
            "Unique Values:\n",
            "Date                            193\n",
            "Hour                             43\n",
            "Tide                             41\n",
            "Weather Condition                 6\n",
            "Water temperature (ºC)           35\n",
            "Zone                              5\n",
            "Supratidal/Middle Intertidal      5\n",
            "Substrate                        25\n",
            "TOTAL2                          857\n",
            "observações                      66\n",
            "dtype: int64\n"
          ]
        }
      ],
      "source": [
        "print(\"Analysis of Sessil samples' meta info\")\n",
        "initial_data_profiling(sessil_meta_info_df)"
      ]
    },
    {
      "cell_type": "code",
      "execution_count": null,
      "metadata": {},
      "outputs": [],
      "source": []
    },
    {
      "attachments": {},
      "cell_type": "markdown",
      "metadata": {
        "id": "gCcVSUTsasBP"
      },
      "source": [
        "## 🖼️ Visualisations\n",
        "Copy here the most important visualizations (graphs, charts, maps, images, etc). You can refer to them in the Executive Summary.\n",
        "\n",
        "Technical note: If not all the visualisations are visible, you can still include them as an image or link - in this case please upload them to your own repository."
      ]
    },
    {
      "attachments": {},
      "cell_type": "markdown",
      "metadata": {
        "id": "F2REdi5_rThg"
      },
      "source": [
        "## 👓 References\n",
        "List all of the external links (even if they are already linked above), such as external datasets, papers, blog posts, code repositories and any other materials."
      ]
    },
    {
      "attachments": {},
      "cell_type": "markdown",
      "metadata": {
        "id": "uLBpGOl5o0ix"
      },
      "source": [
        "## ⏭️ Appendix\n",
        "Add here any code, images or text that you still find relevant, but that was too long to include in the main report. This section is optional.\n"
      ]
    },
    {
      "cell_type": "code",
      "execution_count": null,
      "metadata": {
        "id": "Mot-NqmmpAHI"
      },
      "outputs": [],
      "source": []
    }
  ],
  "metadata": {
    "colab": {
      "collapsed_sections": [
        "C8rCpNajszur"
      ],
      "provenance": []
    },
    "kernelspec": {
      "display_name": "Python 3",
      "name": "python3"
    },
    "language_info": {
      "codemirror_mode": {
        "name": "ipython",
        "version": 3
      },
      "file_extension": ".py",
      "mimetype": "text/x-python",
      "name": "python",
      "nbconvert_exporter": "python",
      "pygments_lexer": "ipython3",
      "version": "3.9.16"
    }
  },
  "nbformat": 4,
  "nbformat_minor": 0
}
