{
 "cells": [
  {
   "attachments": {},
   "cell_type": "markdown",
   "metadata": {},
   "source": [
    "# EDA\n",
    "\n",
    "## TODOs\n",
    "* No AMPA_DAta_Sample.xlsx, agrupar as tabelas sessil e mobil, com uma coluna \"mobil\", bool - True or False\n",
    "* Confirmar se temos 1 sample/mês, e o mesmo nº de samples por estação do ano\n",
    "* Extrair localizações das zonas A,B,C e D (ver artigo dos dados) para obtermos visualizações geoespaciais\n",
    "* OPCIONAL (depende do que queremos explorar) - Dar merge da tabela em invasive_conservat species list com o resto do dataset. Notei que nenhuma espécie mobil é invasiva, mas algumas sessil são."
   ]
  },
  {
   "cell_type": "code",
   "execution_count": 10,
   "metadata": {},
   "outputs": [
    {
     "name": "stderr",
     "output_type": "stream",
     "text": [
      "/home/pasou/anaconda3/envs/wdl_2023/lib/python3.9/site-packages/tqdm/auto.py:22: TqdmWarning: IProgress not found. Please update jupyter and ipywidgets. See https://ipywidgets.readthedocs.io/en/stable/user_install.html\n",
      "  from .autonotebook import tqdm as notebook_tqdm\n",
      "/tmp/ipykernel_6106/1557964039.py:7: DeprecationWarning: `import pandas_profiling` is going to be deprecated by April 1st. Please use `import ydata_profiling` instead.\n",
      "  from pandas_profiling import ProfileReport\n"
     ]
    }
   ],
   "source": [
    "import pandas as pd\n",
    "import numpy as np\n",
    "import matplotlib.pyplot as plt\n",
    "import seaborn as sns\n",
    "import os\n",
    "import missingno as msno\n",
    "from pandas_profiling import ProfileReport\n",
    "import pandas_profiling"
   ]
  },
  {
   "cell_type": "code",
   "execution_count": 11,
   "metadata": {},
   "outputs": [
    {
     "name": "stdout",
     "output_type": "stream",
     "text": [
      "2.0.1\n",
      "0.5.2\n",
      "3.6.6\n"
     ]
    }
   ],
   "source": [
    "print(pd.__version__)\n",
    "print(msno.__version__)\n",
    "print(pandas_profiling.__version__)"
   ]
  },
  {
   "cell_type": "code",
   "execution_count": 12,
   "metadata": {},
   "outputs": [],
   "source": [
    "# set Seaborn style and context\n",
    "sns.set_style('darkgrid')\n",
    "sns.set_palette('muted')\n",
    "sns.set_context('notebook')"
   ]
  },
  {
   "attachments": {},
   "cell_type": "markdown",
   "metadata": {},
   "source": [
    "Uploading data and preliminary preprocessing:"
   ]
  },
  {
   "cell_type": "code",
   "execution_count": 109,
   "metadata": {},
   "outputs": [
    {
     "name": "stdout",
     "output_type": "stream",
     "text": [
      "['Sessil (% Coverage)', ' Mobil (nº individuals)', 'Invasive_conservat species list']\n"
     ]
    }
   ],
   "source": [
    "data_path = os.path.join(os.path.dirname(os.getcwd()), \"data\", \"raw\", \"files_WDL\",\n",
    "                         \"cascais_data\", \"AMPA_Data_Sample.xlsx\")\n",
    "\n",
    "with pd.ExcelFile(data_path) as xls:\n",
    "    sheet_names = xls.sheet_names          \n",
    "\n",
    "print(sheet_names)      "
   ]
  },
  {
   "cell_type": "code",
   "execution_count": 110,
   "metadata": {},
   "outputs": [],
   "source": [
    "sessil_df = pd.read_excel(data_path, sheet_name='Sessil (% Coverage)', index_col=0)"
   ]
  },
  {
   "cell_type": "code",
   "execution_count": 111,
   "metadata": {},
   "outputs": [
    {
     "data": {
      "text/html": [
       "<div>\n",
       "<style scoped>\n",
       "    .dataframe tbody tr th:only-of-type {\n",
       "        vertical-align: middle;\n",
       "    }\n",
       "\n",
       "    .dataframe tbody tr th {\n",
       "        vertical-align: top;\n",
       "    }\n",
       "\n",
       "    .dataframe thead th {\n",
       "        text-align: right;\n",
       "    }\n",
       "</style>\n",
       "<table border=\"1\" class=\"dataframe\">\n",
       "  <thead>\n",
       "    <tr style=\"text-align: right;\">\n",
       "      <th></th>\n",
       "      <th>Hour</th>\n",
       "      <th>Tide</th>\n",
       "      <th>Weather Condition</th>\n",
       "      <th>Water temperature (ºC)</th>\n",
       "      <th>Sampler</th>\n",
       "      <th>Zone</th>\n",
       "      <th>Supratidal/Middle Intertidal</th>\n",
       "      <th>Substrate</th>\n",
       "      <th>Chthamalus sp.</th>\n",
       "      <th>Balanus perforatus</th>\n",
       "      <th>...</th>\n",
       "      <th>Alga castanha carnuda</th>\n",
       "      <th>Alga castanha tufosa</th>\n",
       "      <th>Alga verde/azul - lavanda</th>\n",
       "      <th>Sphacelaria rigidula (pompons castanhos)</th>\n",
       "      <th>Cystoseira sp.</th>\n",
       "      <th>Laminaria sp.</th>\n",
       "      <th>TOTAL2</th>\n",
       "      <th>observações</th>\n",
       "      <th>Coluna1</th>\n",
       "      <th>Coluna2</th>\n",
       "    </tr>\n",
       "    <tr>\n",
       "      <th>Date</th>\n",
       "      <th></th>\n",
       "      <th></th>\n",
       "      <th></th>\n",
       "      <th></th>\n",
       "      <th></th>\n",
       "      <th></th>\n",
       "      <th></th>\n",
       "      <th></th>\n",
       "      <th></th>\n",
       "      <th></th>\n",
       "      <th></th>\n",
       "      <th></th>\n",
       "      <th></th>\n",
       "      <th></th>\n",
       "      <th></th>\n",
       "      <th></th>\n",
       "      <th></th>\n",
       "      <th></th>\n",
       "      <th></th>\n",
       "      <th></th>\n",
       "      <th></th>\n",
       "    </tr>\n",
       "  </thead>\n",
       "  <tbody>\n",
       "    <tr>\n",
       "      <th>2011-11-28</th>\n",
       "      <td>12:20:00</td>\n",
       "      <td>0.6</td>\n",
       "      <td>Clear sky</td>\n",
       "      <td>16</td>\n",
       "      <td>AF SF</td>\n",
       "      <td>D</td>\n",
       "      <td>Supra</td>\n",
       "      <td>Rock</td>\n",
       "      <td>7</td>\n",
       "      <td>0</td>\n",
       "      <td>...</td>\n",
       "      <td>0.0</td>\n",
       "      <td>0.0</td>\n",
       "      <td>0.0</td>\n",
       "      <td>0.0</td>\n",
       "      <td>0</td>\n",
       "      <td>0.0</td>\n",
       "      <td>93.3</td>\n",
       "      <td>0</td>\n",
       "      <td>0</td>\n",
       "      <td>0.0</td>\n",
       "    </tr>\n",
       "    <tr>\n",
       "      <th>2011-11-28</th>\n",
       "      <td>12:35:00</td>\n",
       "      <td>0.6</td>\n",
       "      <td>Clear sky</td>\n",
       "      <td>16</td>\n",
       "      <td>AF SF</td>\n",
       "      <td>D</td>\n",
       "      <td>Supra</td>\n",
       "      <td>Rock</td>\n",
       "      <td>0</td>\n",
       "      <td>0</td>\n",
       "      <td>...</td>\n",
       "      <td>0.0</td>\n",
       "      <td>0.0</td>\n",
       "      <td>0.0</td>\n",
       "      <td>0.0</td>\n",
       "      <td>0</td>\n",
       "      <td>0.0</td>\n",
       "      <td>0.1</td>\n",
       "      <td></td>\n",
       "      <td>0</td>\n",
       "      <td>0.0</td>\n",
       "    </tr>\n",
       "    <tr>\n",
       "      <th>2011-11-28</th>\n",
       "      <td>10:10:00</td>\n",
       "      <td>0.6</td>\n",
       "      <td>Clear sky</td>\n",
       "      <td>16</td>\n",
       "      <td>AF SF</td>\n",
       "      <td>D</td>\n",
       "      <td>Medium</td>\n",
       "      <td>Puddle</td>\n",
       "      <td>0</td>\n",
       "      <td></td>\n",
       "      <td>...</td>\n",
       "      <td>0.0</td>\n",
       "      <td>0.0</td>\n",
       "      <td>0.0</td>\n",
       "      <td>0.0</td>\n",
       "      <td>0</td>\n",
       "      <td>0.0</td>\n",
       "      <td>100</td>\n",
       "      <td>0</td>\n",
       "      <td>0</td>\n",
       "      <td>0.0</td>\n",
       "    </tr>\n",
       "    <tr>\n",
       "      <th>2011-11-28</th>\n",
       "      <td>10:25:00</td>\n",
       "      <td>0.6</td>\n",
       "      <td>Clear sky</td>\n",
       "      <td>16</td>\n",
       "      <td>AF SF</td>\n",
       "      <td>D</td>\n",
       "      <td>Medium</td>\n",
       "      <td>Rock</td>\n",
       "      <td>8</td>\n",
       "      <td>0</td>\n",
       "      <td>...</td>\n",
       "      <td>0.0</td>\n",
       "      <td>0.0</td>\n",
       "      <td>0.0</td>\n",
       "      <td>0.0</td>\n",
       "      <td>0</td>\n",
       "      <td>0.0</td>\n",
       "      <td>99.5</td>\n",
       "      <td></td>\n",
       "      <td>0</td>\n",
       "      <td>0.0</td>\n",
       "    </tr>\n",
       "    <tr>\n",
       "      <th>2011-11-28</th>\n",
       "      <td>10:40:00</td>\n",
       "      <td>0.6</td>\n",
       "      <td>Clear sky</td>\n",
       "      <td>16</td>\n",
       "      <td>AF SF</td>\n",
       "      <td>D</td>\n",
       "      <td>Medium</td>\n",
       "      <td>Rock</td>\n",
       "      <td>25</td>\n",
       "      <td>0</td>\n",
       "      <td>...</td>\n",
       "      <td>0.0</td>\n",
       "      <td>0.0</td>\n",
       "      <td>0.0</td>\n",
       "      <td>0.0</td>\n",
       "      <td>0</td>\n",
       "      <td>0.0</td>\n",
       "      <td>66.45</td>\n",
       "      <td>0</td>\n",
       "      <td>0</td>\n",
       "      <td>0.0</td>\n",
       "    </tr>\n",
       "    <tr>\n",
       "      <th>...</th>\n",
       "      <td>...</td>\n",
       "      <td>...</td>\n",
       "      <td>...</td>\n",
       "      <td>...</td>\n",
       "      <td>...</td>\n",
       "      <td>...</td>\n",
       "      <td>...</td>\n",
       "      <td>...</td>\n",
       "      <td>...</td>\n",
       "      <td>...</td>\n",
       "      <td>...</td>\n",
       "      <td>...</td>\n",
       "      <td>...</td>\n",
       "      <td>...</td>\n",
       "      <td>...</td>\n",
       "      <td>...</td>\n",
       "      <td>...</td>\n",
       "      <td>...</td>\n",
       "      <td>...</td>\n",
       "      <td>...</td>\n",
       "      <td>...</td>\n",
       "    </tr>\n",
       "    <tr>\n",
       "      <th>2020-11-16</th>\n",
       "      <td>08:00:00</td>\n",
       "      <td>0.4</td>\n",
       "      <td>Sunny</td>\n",
       "      <td>18</td>\n",
       "      <td>AF SF JP</td>\n",
       "      <td>F</td>\n",
       "      <td>Medium</td>\n",
       "      <td>Rock/Sand</td>\n",
       "      <td>17</td>\n",
       "      <td>0</td>\n",
       "      <td>...</td>\n",
       "      <td>0.0</td>\n",
       "      <td>0.0</td>\n",
       "      <td>0.0</td>\n",
       "      <td>0.0</td>\n",
       "      <td>0</td>\n",
       "      <td>0.0</td>\n",
       "      <td>39.55</td>\n",
       "      <td>0</td>\n",
       "      <td>0</td>\n",
       "      <td>0.0</td>\n",
       "    </tr>\n",
       "    <tr>\n",
       "      <th>2020-11-16</th>\n",
       "      <td>08:00:00</td>\n",
       "      <td>0.4</td>\n",
       "      <td>Sunny</td>\n",
       "      <td>18</td>\n",
       "      <td>AF SF JP</td>\n",
       "      <td>F</td>\n",
       "      <td>Medium</td>\n",
       "      <td>Rock</td>\n",
       "      <td>10</td>\n",
       "      <td>0</td>\n",
       "      <td>...</td>\n",
       "      <td>0.0</td>\n",
       "      <td>0.0</td>\n",
       "      <td>0.0</td>\n",
       "      <td>0.0</td>\n",
       "      <td>0</td>\n",
       "      <td>0.0</td>\n",
       "      <td>16.2</td>\n",
       "      <td>0</td>\n",
       "      <td>0</td>\n",
       "      <td>0.0</td>\n",
       "    </tr>\n",
       "    <tr>\n",
       "      <th>2020-11-16</th>\n",
       "      <td>08:00:00</td>\n",
       "      <td>0.4</td>\n",
       "      <td>Sunny</td>\n",
       "      <td>18</td>\n",
       "      <td>AF SF JP</td>\n",
       "      <td>F</td>\n",
       "      <td>Supra</td>\n",
       "      <td>Rock</td>\n",
       "      <td>0</td>\n",
       "      <td>0</td>\n",
       "      <td>...</td>\n",
       "      <td>0.0</td>\n",
       "      <td>0.0</td>\n",
       "      <td>0.0</td>\n",
       "      <td>0.0</td>\n",
       "      <td>0</td>\n",
       "      <td>0.0</td>\n",
       "      <td>3</td>\n",
       "      <td>0</td>\n",
       "      <td>0</td>\n",
       "      <td>0.0</td>\n",
       "    </tr>\n",
       "    <tr>\n",
       "      <th>2020-11-16</th>\n",
       "      <td>08:00:00</td>\n",
       "      <td>0.4</td>\n",
       "      <td>Sunny</td>\n",
       "      <td>18</td>\n",
       "      <td>AF SF JP</td>\n",
       "      <td>F</td>\n",
       "      <td>Supra</td>\n",
       "      <td>Rock</td>\n",
       "      <td>5</td>\n",
       "      <td>0</td>\n",
       "      <td>...</td>\n",
       "      <td>0.0</td>\n",
       "      <td>0.0</td>\n",
       "      <td>0.0</td>\n",
       "      <td>0.0</td>\n",
       "      <td>0</td>\n",
       "      <td>0.0</td>\n",
       "      <td>9.2</td>\n",
       "      <td>0</td>\n",
       "      <td>0</td>\n",
       "      <td>0.0</td>\n",
       "    </tr>\n",
       "    <tr>\n",
       "      <th>NaT</th>\n",
       "      <td>NaN</td>\n",
       "      <td>NaN</td>\n",
       "      <td>NaN</td>\n",
       "      <td>NaN</td>\n",
       "      <td>NaN</td>\n",
       "      <td>NaN</td>\n",
       "      <td>NaN</td>\n",
       "      <td>NaN</td>\n",
       "      <td>NaN</td>\n",
       "      <td>NaN</td>\n",
       "      <td>...</td>\n",
       "      <td>NaN</td>\n",
       "      <td>NaN</td>\n",
       "      <td>NaN</td>\n",
       "      <td>NaN</td>\n",
       "      <td>NaN</td>\n",
       "      <td>NaN</td>\n",
       "      <td>65.443836</td>\n",
       "      <td>NaN</td>\n",
       "      <td>NaN</td>\n",
       "      <td>NaN</td>\n",
       "    </tr>\n",
       "  </tbody>\n",
       "</table>\n",
       "<p>2011 rows × 104 columns</p>\n",
       "</div>"
      ],
      "text/plain": [
       "                Hour  Tide Weather Condition Water temperature (ºC)   Sampler   \n",
       "Date                                                                            \n",
       "2011-11-28  12:20:00   0.6         Clear sky                     16     AF SF  \\\n",
       "2011-11-28  12:35:00   0.6         Clear sky                     16     AF SF   \n",
       "2011-11-28  10:10:00   0.6         Clear sky                     16     AF SF   \n",
       "2011-11-28  10:25:00   0.6         Clear sky                     16     AF SF   \n",
       "2011-11-28  10:40:00   0.6         Clear sky                     16     AF SF   \n",
       "...              ...   ...               ...                    ...       ...   \n",
       "2020-11-16  08:00:00   0.4             Sunny                     18  AF SF JP   \n",
       "2020-11-16  08:00:00   0.4             Sunny                     18  AF SF JP   \n",
       "2020-11-16  08:00:00   0.4             Sunny                     18  AF SF JP   \n",
       "2020-11-16  08:00:00   0.4             Sunny                     18  AF SF JP   \n",
       "NaT              NaN   NaN               NaN                    NaN       NaN   \n",
       "\n",
       "           Zone Supratidal/Middle Intertidal  Substrate Chthamalus sp.   \n",
       "Date                                                                     \n",
       "2011-11-28    D                        Supra       Rock              7  \\\n",
       "2011-11-28    D                        Supra       Rock              0   \n",
       "2011-11-28    D                       Medium     Puddle              0   \n",
       "2011-11-28    D                       Medium       Rock              8   \n",
       "2011-11-28    D                       Medium       Rock             25   \n",
       "...         ...                          ...        ...            ...   \n",
       "2020-11-16    F                       Medium  Rock/Sand             17   \n",
       "2020-11-16    F                       Medium       Rock             10   \n",
       "2020-11-16    F                        Supra       Rock              0   \n",
       "2020-11-16    F                        Supra       Rock              5   \n",
       "NaT         NaN                          NaN        NaN            NaN   \n",
       "\n",
       "           Balanus perforatus  ... Alga castanha carnuda   \n",
       "Date                           ...                         \n",
       "2011-11-28                  0  ...                   0.0  \\\n",
       "2011-11-28                  0  ...                   0.0   \n",
       "2011-11-28                     ...                   0.0   \n",
       "2011-11-28                  0  ...                   0.0   \n",
       "2011-11-28                  0  ...                   0.0   \n",
       "...                       ...  ...                   ...   \n",
       "2020-11-16                  0  ...                   0.0   \n",
       "2020-11-16                  0  ...                   0.0   \n",
       "2020-11-16                  0  ...                   0.0   \n",
       "2020-11-16                  0  ...                   0.0   \n",
       "NaT                       NaN  ...                   NaN   \n",
       "\n",
       "            Alga castanha tufosa  Alga verde/azul - lavanda   \n",
       "Date                                                          \n",
       "2011-11-28                   0.0                        0.0  \\\n",
       "2011-11-28                   0.0                        0.0   \n",
       "2011-11-28                   0.0                        0.0   \n",
       "2011-11-28                   0.0                        0.0   \n",
       "2011-11-28                   0.0                        0.0   \n",
       "...                          ...                        ...   \n",
       "2020-11-16                   0.0                        0.0   \n",
       "2020-11-16                   0.0                        0.0   \n",
       "2020-11-16                   0.0                        0.0   \n",
       "2020-11-16                   0.0                        0.0   \n",
       "NaT                          NaN                        NaN   \n",
       "\n",
       "            Sphacelaria rigidula (pompons castanhos)  Cystoseira sp.   \n",
       "Date                                                                   \n",
       "2011-11-28                                       0.0               0  \\\n",
       "2011-11-28                                       0.0               0   \n",
       "2011-11-28                                       0.0               0   \n",
       "2011-11-28                                       0.0               0   \n",
       "2011-11-28                                       0.0               0   \n",
       "...                                              ...             ...   \n",
       "2020-11-16                                       0.0               0   \n",
       "2020-11-16                                       0.0               0   \n",
       "2020-11-16                                       0.0               0   \n",
       "2020-11-16                                       0.0               0   \n",
       "NaT                                              NaN             NaN   \n",
       "\n",
       "            Laminaria sp.     TOTAL2  observações  Coluna1  Coluna2  \n",
       "Date                                                                 \n",
       "2011-11-28            0.0       93.3            0        0      0.0  \n",
       "2011-11-28            0.0        0.1                     0      0.0  \n",
       "2011-11-28            0.0        100            0        0      0.0  \n",
       "2011-11-28            0.0       99.5                     0      0.0  \n",
       "2011-11-28            0.0      66.45            0        0      0.0  \n",
       "...                   ...        ...          ...      ...      ...  \n",
       "2020-11-16            0.0      39.55            0        0      0.0  \n",
       "2020-11-16            0.0       16.2            0        0      0.0  \n",
       "2020-11-16            0.0          3            0        0      0.0  \n",
       "2020-11-16            0.0        9.2            0        0      0.0  \n",
       "NaT                   NaN  65.443836          NaN      NaN      NaN  \n",
       "\n",
       "[2011 rows x 104 columns]"
      ]
     },
     "execution_count": 111,
     "metadata": {},
     "output_type": "execute_result"
    }
   ],
   "source": [
    "sessil_df"
   ]
  },
  {
   "cell_type": "code",
   "execution_count": 112,
   "metadata": {},
   "outputs": [],
   "source": [
    "mobil_df = pd.read_excel(data_path, sheet_name=' Mobil (nº individuals)', index_col=0)\n",
    "mobil_df = mobil_df.loc[~pd.isna(mobil_df.index)]"
   ]
  },
  {
   "cell_type": "code",
   "execution_count": 113,
   "metadata": {},
   "outputs": [
    {
     "data": {
      "text/html": [
       "<div>\n",
       "<style scoped>\n",
       "    .dataframe tbody tr th:only-of-type {\n",
       "        vertical-align: middle;\n",
       "    }\n",
       "\n",
       "    .dataframe tbody tr th {\n",
       "        vertical-align: top;\n",
       "    }\n",
       "\n",
       "    .dataframe thead th {\n",
       "        text-align: right;\n",
       "    }\n",
       "</style>\n",
       "<table border=\"1\" class=\"dataframe\">\n",
       "  <thead>\n",
       "    <tr style=\"text-align: right;\">\n",
       "      <th></th>\n",
       "      <th>Hour</th>\n",
       "      <th>Tide</th>\n",
       "      <th>Weather Condition</th>\n",
       "      <th>Water temperature (ºC)</th>\n",
       "      <th>Sampler</th>\n",
       "      <th>Zone</th>\n",
       "      <th>Supratidal/Middle Intertidal</th>\n",
       "      <th>Substrate</th>\n",
       "      <th>Caboz N.I.</th>\n",
       "      <th>Palaemon serratus</th>\n",
       "      <th>...</th>\n",
       "      <th>Doriopsilla areolata (nudibrânquio)</th>\n",
       "      <th>Scorpaena sp. (Rascasso)</th>\n",
       "      <th>Lipophrys pholis (ad.)</th>\n",
       "      <th>Diplodus cervinus</th>\n",
       "      <th>Gobiusculus flavescens</th>\n",
       "      <th>TOTAL</th>\n",
       "      <th>Abundance (ind/m2)</th>\n",
       "      <th>Column1</th>\n",
       "      <th>Column2</th>\n",
       "      <th>Column3</th>\n",
       "    </tr>\n",
       "    <tr>\n",
       "      <th>Date</th>\n",
       "      <th></th>\n",
       "      <th></th>\n",
       "      <th></th>\n",
       "      <th></th>\n",
       "      <th></th>\n",
       "      <th></th>\n",
       "      <th></th>\n",
       "      <th></th>\n",
       "      <th></th>\n",
       "      <th></th>\n",
       "      <th></th>\n",
       "      <th></th>\n",
       "      <th></th>\n",
       "      <th></th>\n",
       "      <th></th>\n",
       "      <th></th>\n",
       "      <th></th>\n",
       "      <th></th>\n",
       "      <th></th>\n",
       "      <th></th>\n",
       "      <th></th>\n",
       "    </tr>\n",
       "  </thead>\n",
       "  <tbody>\n",
       "    <tr>\n",
       "      <th>2011-11-28</th>\n",
       "      <td>12:20:00</td>\n",
       "      <td>0.6</td>\n",
       "      <td>Clear sky</td>\n",
       "      <td>16</td>\n",
       "      <td>AF SF</td>\n",
       "      <td>D</td>\n",
       "      <td>Supra</td>\n",
       "      <td>Puddle/Rock</td>\n",
       "      <td>0</td>\n",
       "      <td>0</td>\n",
       "      <td>...</td>\n",
       "      <td>0.0</td>\n",
       "      <td>0.0</td>\n",
       "      <td>0.0</td>\n",
       "      <td>0.0</td>\n",
       "      <td>0.0</td>\n",
       "      <td>1.0</td>\n",
       "      <td>0.05</td>\n",
       "      <td>0</td>\n",
       "      <td>NaN</td>\n",
       "      <td>NaN</td>\n",
       "    </tr>\n",
       "    <tr>\n",
       "      <th>2011-11-28</th>\n",
       "      <td>12:35:00</td>\n",
       "      <td>0.6</td>\n",
       "      <td>Clear sky</td>\n",
       "      <td>16</td>\n",
       "      <td>AF SF</td>\n",
       "      <td>D</td>\n",
       "      <td>Supra</td>\n",
       "      <td>Sand/Pebble</td>\n",
       "      <td>0</td>\n",
       "      <td>0</td>\n",
       "      <td>...</td>\n",
       "      <td>0.0</td>\n",
       "      <td>0.0</td>\n",
       "      <td>0.0</td>\n",
       "      <td>0.0</td>\n",
       "      <td>0.0</td>\n",
       "      <td>0.0</td>\n",
       "      <td>0.00</td>\n",
       "      <td>0</td>\n",
       "      <td>NaN</td>\n",
       "      <td>NaN</td>\n",
       "    </tr>\n",
       "    <tr>\n",
       "      <th>2011-11-28</th>\n",
       "      <td>10:10:00</td>\n",
       "      <td>0.6</td>\n",
       "      <td>Clear sky</td>\n",
       "      <td>16</td>\n",
       "      <td>AF SF</td>\n",
       "      <td>D</td>\n",
       "      <td>Medium</td>\n",
       "      <td>Puddle/Rock</td>\n",
       "      <td>0</td>\n",
       "      <td>0</td>\n",
       "      <td>...</td>\n",
       "      <td>0.0</td>\n",
       "      <td>0.0</td>\n",
       "      <td>0.0</td>\n",
       "      <td>0.0</td>\n",
       "      <td>0.0</td>\n",
       "      <td>4.0</td>\n",
       "      <td>0.20</td>\n",
       "      <td>0</td>\n",
       "      <td>NaN</td>\n",
       "      <td>NaN</td>\n",
       "    </tr>\n",
       "    <tr>\n",
       "      <th>2011-11-28</th>\n",
       "      <td>10:25:00</td>\n",
       "      <td>0.6</td>\n",
       "      <td>Clear sky</td>\n",
       "      <td>16</td>\n",
       "      <td>AF SF</td>\n",
       "      <td>D</td>\n",
       "      <td>Medium</td>\n",
       "      <td>Puddle/Rock</td>\n",
       "      <td>0</td>\n",
       "      <td>1</td>\n",
       "      <td>...</td>\n",
       "      <td>0.0</td>\n",
       "      <td>0.0</td>\n",
       "      <td>0.0</td>\n",
       "      <td>0.0</td>\n",
       "      <td>0.0</td>\n",
       "      <td>2.0</td>\n",
       "      <td>0.10</td>\n",
       "      <td>0</td>\n",
       "      <td>NaN</td>\n",
       "      <td>NaN</td>\n",
       "    </tr>\n",
       "    <tr>\n",
       "      <th>2011-11-28</th>\n",
       "      <td>10:40:00</td>\n",
       "      <td>0.6</td>\n",
       "      <td>Clear sky</td>\n",
       "      <td>16</td>\n",
       "      <td>AF SF</td>\n",
       "      <td>D</td>\n",
       "      <td>Medium</td>\n",
       "      <td>Puddle/Rock</td>\n",
       "      <td>0</td>\n",
       "      <td>0</td>\n",
       "      <td>...</td>\n",
       "      <td>0.0</td>\n",
       "      <td>0.0</td>\n",
       "      <td>0.0</td>\n",
       "      <td>0.0</td>\n",
       "      <td>0.0</td>\n",
       "      <td>1.0</td>\n",
       "      <td>0.05</td>\n",
       "      <td>0</td>\n",
       "      <td>NaN</td>\n",
       "      <td>NaN</td>\n",
       "    </tr>\n",
       "    <tr>\n",
       "      <th>...</th>\n",
       "      <td>...</td>\n",
       "      <td>...</td>\n",
       "      <td>...</td>\n",
       "      <td>...</td>\n",
       "      <td>...</td>\n",
       "      <td>...</td>\n",
       "      <td>...</td>\n",
       "      <td>...</td>\n",
       "      <td>...</td>\n",
       "      <td>...</td>\n",
       "      <td>...</td>\n",
       "      <td>...</td>\n",
       "      <td>...</td>\n",
       "      <td>...</td>\n",
       "      <td>...</td>\n",
       "      <td>...</td>\n",
       "      <td>...</td>\n",
       "      <td>...</td>\n",
       "      <td>...</td>\n",
       "      <td>...</td>\n",
       "      <td>...</td>\n",
       "    </tr>\n",
       "    <tr>\n",
       "      <th>2020-11-16</th>\n",
       "      <td>08:00:00</td>\n",
       "      <td>0.4</td>\n",
       "      <td>Sunny</td>\n",
       "      <td>18</td>\n",
       "      <td>AF SF JP</td>\n",
       "      <td>F</td>\n",
       "      <td>Medium</td>\n",
       "      <td>Puddle/Rock</td>\n",
       "      <td>0</td>\n",
       "      <td>2</td>\n",
       "      <td>...</td>\n",
       "      <td>0.0</td>\n",
       "      <td>0.0</td>\n",
       "      <td>0.0</td>\n",
       "      <td>0.0</td>\n",
       "      <td>0.0</td>\n",
       "      <td>5.0</td>\n",
       "      <td>0.25</td>\n",
       "      <td>NaN</td>\n",
       "      <td>NaN</td>\n",
       "      <td>NaN</td>\n",
       "    </tr>\n",
       "    <tr>\n",
       "      <th>2020-11-16</th>\n",
       "      <td>08:00:00</td>\n",
       "      <td>0.4</td>\n",
       "      <td>Sunny</td>\n",
       "      <td>18</td>\n",
       "      <td>AF SF JP</td>\n",
       "      <td>F</td>\n",
       "      <td>Medium</td>\n",
       "      <td>Rock</td>\n",
       "      <td>0</td>\n",
       "      <td>0</td>\n",
       "      <td>...</td>\n",
       "      <td>0.0</td>\n",
       "      <td>0.0</td>\n",
       "      <td>0.0</td>\n",
       "      <td>0.0</td>\n",
       "      <td>0.0</td>\n",
       "      <td>0.0</td>\n",
       "      <td>0.00</td>\n",
       "      <td>NaN</td>\n",
       "      <td>NaN</td>\n",
       "      <td>NaN</td>\n",
       "    </tr>\n",
       "    <tr>\n",
       "      <th>2020-11-16</th>\n",
       "      <td>08:00:00</td>\n",
       "      <td>0.4</td>\n",
       "      <td>Sunny</td>\n",
       "      <td>18</td>\n",
       "      <td>AF SF JP</td>\n",
       "      <td>F</td>\n",
       "      <td>Medium</td>\n",
       "      <td>Puddle/Rock</td>\n",
       "      <td>1</td>\n",
       "      <td>0</td>\n",
       "      <td>...</td>\n",
       "      <td>0.0</td>\n",
       "      <td>0.0</td>\n",
       "      <td>0.0</td>\n",
       "      <td>0.0</td>\n",
       "      <td>0.0</td>\n",
       "      <td>2.0</td>\n",
       "      <td>0.10</td>\n",
       "      <td>NaN</td>\n",
       "      <td>NaN</td>\n",
       "      <td>NaN</td>\n",
       "    </tr>\n",
       "    <tr>\n",
       "      <th>2020-11-16</th>\n",
       "      <td>08:00:00</td>\n",
       "      <td>0.4</td>\n",
       "      <td>Sunny</td>\n",
       "      <td>18</td>\n",
       "      <td>AF SF JP</td>\n",
       "      <td>F</td>\n",
       "      <td>Supra</td>\n",
       "      <td>Rock</td>\n",
       "      <td>0</td>\n",
       "      <td>0</td>\n",
       "      <td>...</td>\n",
       "      <td>0.0</td>\n",
       "      <td>0.0</td>\n",
       "      <td>0.0</td>\n",
       "      <td>0.0</td>\n",
       "      <td>0.0</td>\n",
       "      <td>0.0</td>\n",
       "      <td>0.00</td>\n",
       "      <td>NaN</td>\n",
       "      <td>NaN</td>\n",
       "      <td>NaN</td>\n",
       "    </tr>\n",
       "    <tr>\n",
       "      <th>2020-11-16</th>\n",
       "      <td>08:00:00</td>\n",
       "      <td>0.4</td>\n",
       "      <td>Sunny</td>\n",
       "      <td>18</td>\n",
       "      <td>AF SF JP</td>\n",
       "      <td>F</td>\n",
       "      <td>Supra</td>\n",
       "      <td>Rock</td>\n",
       "      <td>0</td>\n",
       "      <td>0</td>\n",
       "      <td>...</td>\n",
       "      <td>0.0</td>\n",
       "      <td>0.0</td>\n",
       "      <td>0.0</td>\n",
       "      <td>0.0</td>\n",
       "      <td>0.0</td>\n",
       "      <td>0.0</td>\n",
       "      <td>0.00</td>\n",
       "      <td>NaN</td>\n",
       "      <td>NaN</td>\n",
       "      <td>NaN</td>\n",
       "    </tr>\n",
       "  </tbody>\n",
       "</table>\n",
       "<p>2021 rows × 70 columns</p>\n",
       "</div>"
      ],
      "text/plain": [
       "                Hour Tide Weather Condition Water temperature (ºC)   Sampler   \n",
       "Date                                                                           \n",
       "2011-11-28  12:20:00  0.6         Clear sky                     16     AF SF  \\\n",
       "2011-11-28  12:35:00  0.6         Clear sky                     16     AF SF   \n",
       "2011-11-28  10:10:00  0.6         Clear sky                     16     AF SF   \n",
       "2011-11-28  10:25:00  0.6         Clear sky                     16     AF SF   \n",
       "2011-11-28  10:40:00  0.6         Clear sky                     16     AF SF   \n",
       "...              ...  ...               ...                    ...       ...   \n",
       "2020-11-16  08:00:00  0.4             Sunny                     18  AF SF JP   \n",
       "2020-11-16  08:00:00  0.4             Sunny                     18  AF SF JP   \n",
       "2020-11-16  08:00:00  0.4             Sunny                     18  AF SF JP   \n",
       "2020-11-16  08:00:00  0.4             Sunny                     18  AF SF JP   \n",
       "2020-11-16  08:00:00  0.4             Sunny                     18  AF SF JP   \n",
       "\n",
       "           Zone Supratidal/Middle Intertidal    Substrate Caboz N.I.   \n",
       "Date                                                                   \n",
       "2011-11-28    D                        Supra  Puddle/Rock          0  \\\n",
       "2011-11-28    D                        Supra  Sand/Pebble          0   \n",
       "2011-11-28    D                       Medium  Puddle/Rock          0   \n",
       "2011-11-28    D                       Medium  Puddle/Rock          0   \n",
       "2011-11-28    D                       Medium  Puddle/Rock          0   \n",
       "...         ...                          ...          ...        ...   \n",
       "2020-11-16    F                       Medium  Puddle/Rock          0   \n",
       "2020-11-16    F                       Medium         Rock          0   \n",
       "2020-11-16    F                       Medium  Puddle/Rock          1   \n",
       "2020-11-16    F                        Supra         Rock          0   \n",
       "2020-11-16    F                        Supra         Rock          0   \n",
       "\n",
       "           Palaemon serratus  ... Doriopsilla areolata (nudibrânquio)   \n",
       "Date                          ...                                       \n",
       "2011-11-28                 0  ...                                 0.0  \\\n",
       "2011-11-28                 0  ...                                 0.0   \n",
       "2011-11-28                 0  ...                                 0.0   \n",
       "2011-11-28                 1  ...                                 0.0   \n",
       "2011-11-28                 0  ...                                 0.0   \n",
       "...                      ...  ...                                 ...   \n",
       "2020-11-16                 2  ...                                 0.0   \n",
       "2020-11-16                 0  ...                                 0.0   \n",
       "2020-11-16                 0  ...                                 0.0   \n",
       "2020-11-16                 0  ...                                 0.0   \n",
       "2020-11-16                 0  ...                                 0.0   \n",
       "\n",
       "           Scorpaena sp. (Rascasso)  Lipophrys pholis (ad.)   \n",
       "Date                                                          \n",
       "2011-11-28                      0.0                     0.0  \\\n",
       "2011-11-28                      0.0                     0.0   \n",
       "2011-11-28                      0.0                     0.0   \n",
       "2011-11-28                      0.0                     0.0   \n",
       "2011-11-28                      0.0                     0.0   \n",
       "...                             ...                     ...   \n",
       "2020-11-16                      0.0                     0.0   \n",
       "2020-11-16                      0.0                     0.0   \n",
       "2020-11-16                      0.0                     0.0   \n",
       "2020-11-16                      0.0                     0.0   \n",
       "2020-11-16                      0.0                     0.0   \n",
       "\n",
       "            Diplodus cervinus  Gobiusculus flavescens  TOTAL   \n",
       "Date                                                           \n",
       "2011-11-28                0.0                     0.0    1.0  \\\n",
       "2011-11-28                0.0                     0.0    0.0   \n",
       "2011-11-28                0.0                     0.0    4.0   \n",
       "2011-11-28                0.0                     0.0    2.0   \n",
       "2011-11-28                0.0                     0.0    1.0   \n",
       "...                       ...                     ...    ...   \n",
       "2020-11-16                0.0                     0.0    5.0   \n",
       "2020-11-16                0.0                     0.0    0.0   \n",
       "2020-11-16                0.0                     0.0    2.0   \n",
       "2020-11-16                0.0                     0.0    0.0   \n",
       "2020-11-16                0.0                     0.0    0.0   \n",
       "\n",
       "            Abundance (ind/m2)  Column1  Column2  Column3  \n",
       "Date                                                       \n",
       "2011-11-28                0.05        0      NaN      NaN  \n",
       "2011-11-28                0.00        0      NaN      NaN  \n",
       "2011-11-28                0.20        0      NaN      NaN  \n",
       "2011-11-28                0.10        0      NaN      NaN  \n",
       "2011-11-28                0.05        0      NaN      NaN  \n",
       "...                        ...      ...      ...      ...  \n",
       "2020-11-16                0.25      NaN      NaN      NaN  \n",
       "2020-11-16                0.00      NaN      NaN      NaN  \n",
       "2020-11-16                0.10      NaN      NaN      NaN  \n",
       "2020-11-16                0.00      NaN      NaN      NaN  \n",
       "2020-11-16                0.00      NaN      NaN      NaN  \n",
       "\n",
       "[2021 rows x 70 columns]"
      ]
     },
     "execution_count": 113,
     "metadata": {},
     "output_type": "execute_result"
    }
   ],
   "source": [
    "mobil_df"
   ]
  },
  {
   "attachments": {},
   "cell_type": "markdown",
   "metadata": {},
   "source": [
    "Invasive species information:"
   ]
  },
  {
   "cell_type": "code",
   "execution_count": 114,
   "metadata": {},
   "outputs": [],
   "source": [
    "invasive_df = pd.read_excel(data_path, sheet_name='Invasive_conservat species list', header=1)\n",
    "cols_to_keep = [col_name for col_name in invasive_df.columns if 'Unnamed' not in col_name]\n",
    "\n",
    "sessil_species_invasive = invasive_df[cols_to_keep[:3]].dropna()\n",
    "mobil_species_invasive = invasive_df[cols_to_keep[3:5]].dropna()\n"
   ]
  },
  {
   "attachments": {},
   "cell_type": "markdown",
   "metadata": {},
   "source": [
    "### Checking for Missing Values"
   ]
  },
  {
   "cell_type": "code",
   "execution_count": 21,
   "metadata": {},
   "outputs": [
    {
     "data": {
      "text/plain": [
       "Date                         1\n",
       "Hour                         1\n",
       "Tide                         1\n",
       "Weather Condition            1\n",
       "Water temperature (ºC)       9\n",
       "                          ... \n",
       "Laminaria sp.                1\n",
       "TOTAL2                       0\n",
       "observações               1536\n",
       "Coluna1                   1648\n",
       "Coluna2                   1649\n",
       "Length: 105, dtype: int64"
      ]
     },
     "execution_count": 21,
     "metadata": {},
     "output_type": "execute_result"
    }
   ],
   "source": [
    "sessil_df.isnull().sum()"
   ]
  },
  {
   "cell_type": "code",
   "execution_count": 117,
   "metadata": {},
   "outputs": [
    {
     "data": {
      "text/plain": [
       "Hour                         0\n",
       "Tide                         5\n",
       "Weather Condition            0\n",
       "Water temperature (ºC)       0\n",
       "Sampler                      0\n",
       "                          ... \n",
       "TOTAL                        3\n",
       "Abundance (ind/m2)           0\n",
       "Column1                    196\n",
       "Column2                   2021\n",
       "Column3                   2021\n",
       "Length: 70, dtype: int64"
      ]
     },
     "execution_count": 117,
     "metadata": {},
     "output_type": "execute_result"
    }
   ],
   "source": [
    "mobil_df.isnull().sum()"
   ]
  },
  {
   "attachments": {},
   "cell_type": "markdown",
   "metadata": {},
   "source": [
    "Some missing values in both datasets..."
   ]
  },
  {
   "cell_type": "code",
   "execution_count": 116,
   "metadata": {},
   "outputs": [
    {
     "name": "stdout",
     "output_type": "stream",
     "text": [
      "Sessil species                0\n",
      "Invasive (Yes/No)             0\n",
      "Conservation Status (IUCN)    0\n",
      "dtype: int64\n",
      "Mobil species          0\n",
      "Invasive (Yes/No).1    0\n",
      "dtype: int64\n"
     ]
    }
   ],
   "source": [
    "print(sessil_species_invasive.isnull().sum())\n",
    "print(mobil_species_invasive.isnull().sum())"
   ]
  },
  {
   "attachments": {},
   "cell_type": "markdown",
   "metadata": {},
   "source": [
    "no missing values here :)"
   ]
  },
  {
   "attachments": {},
   "cell_type": "markdown",
   "metadata": {},
   "source": [
    "### Data format/types"
   ]
  },
  {
   "cell_type": "code",
   "execution_count": 8,
   "metadata": {},
   "outputs": [
    {
     "data": {
      "text/plain": [
       "Date                      datetime64[ns]\n",
       "Hour                              object\n",
       "Tide                             float64\n",
       "Weather Condition                 object\n",
       "Water temperature (ºC)            object\n",
       "                               ...      \n",
       "Laminaria sp.                    float64\n",
       "TOTAL2                            object\n",
       "observações                       object\n",
       "Coluna1                           object\n",
       "Coluna2                          float64\n",
       "Length: 105, dtype: object"
      ]
     },
     "execution_count": 8,
     "metadata": {},
     "output_type": "execute_result"
    }
   ],
   "source": [
    "sessil_df.dtypes"
   ]
  },
  {
   "attachments": {},
   "cell_type": "markdown",
   "metadata": {},
   "source": [
    "### Numerical analysis"
   ]
  },
  {
   "cell_type": "code",
   "execution_count": 22,
   "metadata": {},
   "outputs": [],
   "source": [
    "profile = ProfileReport(sessil_df, title='Pandas Profiling Report', explorative=True)"
   ]
  },
  {
   "cell_type": "code",
   "execution_count": null,
   "metadata": {},
   "outputs": [],
   "source": [
    "profile.to_file(\"./reports/report.html\")"
   ]
  },
  {
   "cell_type": "code",
   "execution_count": 5,
   "metadata": {},
   "outputs": [],
   "source": [
    "# Sample 30% of the data\n",
    "sampled_df = sessil_df.sample(frac=0.3)"
   ]
  },
  {
   "cell_type": "code",
   "execution_count": 7,
   "metadata": {},
   "outputs": [],
   "source": [
    "# Generate the profile report on the sampled data\n",
    "profile_30 = ProfileReport(sampled_df, title='Pandas Profiling Report (0.3 sample)', explorative=True)"
   ]
  },
  {
   "cell_type": "code",
   "execution_count": 8,
   "metadata": {},
   "outputs": [
    {
     "data": {
      "application/vnd.jupyter.widget-view+json": {
       "model_id": "523f540f37b94ab39df895738641ffc7",
       "version_major": 2,
       "version_minor": 0
      },
      "text/plain": [
       "Summarize dataset:   0%|          | 0/5 [00:00<?, ?it/s]"
      ]
     },
     "metadata": {},
     "output_type": "display_data"
    },
    {
     "data": {
      "application/vnd.jupyter.widget-view+json": {
       "model_id": "580487fb2b394536a49ddd7115672e68",
       "version_major": 2,
       "version_minor": 0
      },
      "text/plain": [
       "Generate report structure:   0%|          | 0/1 [00:00<?, ?it/s]"
      ]
     },
     "metadata": {},
     "output_type": "display_data"
    },
    {
     "data": {
      "application/vnd.jupyter.widget-view+json": {
       "model_id": "5470772a137c4ce6b1e4b3f628172695",
       "version_major": 2,
       "version_minor": 0
      },
      "text/plain": [
       "Render HTML:   0%|          | 0/1 [00:00<?, ?it/s]"
      ]
     },
     "metadata": {},
     "output_type": "display_data"
    },
    {
     "data": {
      "application/vnd.jupyter.widget-view+json": {
       "model_id": "144ffd7d1faf41a19cec5417ffca1ed3",
       "version_major": 2,
       "version_minor": 0
      },
      "text/plain": [
       "Export report to file:   0%|          | 0/1 [00:00<?, ?it/s]"
      ]
     },
     "metadata": {},
     "output_type": "display_data"
    }
   ],
   "source": [
    "profile_30.to_file(\"./reports/report_30.html\")"
   ]
  },
  {
   "cell_type": "code",
   "execution_count": 9,
   "metadata": {},
   "outputs": [
    {
     "data": {
      "application/vnd.jupyter.widget-view+json": {
       "model_id": "81a4eecf79824d518e85bde1af6bc128",
       "version_major": 2,
       "version_minor": 0
      },
      "text/plain": [
       "Summarize dataset:   0%|          | 0/5 [00:00<?, ?it/s]"
      ]
     },
     "metadata": {},
     "output_type": "display_data"
    },
    {
     "data": {
      "application/vnd.jupyter.widget-view+json": {
       "model_id": "5f3bb78a3c94442a97089caf110e367d",
       "version_major": 2,
       "version_minor": 0
      },
      "text/plain": [
       "Generate report structure:   0%|          | 0/1 [00:00<?, ?it/s]"
      ]
     },
     "metadata": {},
     "output_type": "display_data"
    },
    {
     "data": {
      "application/vnd.jupyter.widget-view+json": {
       "model_id": "9b31fee415b5476999b4faeac1f57df5",
       "version_major": 2,
       "version_minor": 0
      },
      "text/plain": [
       "Render HTML:   0%|          | 0/1 [00:00<?, ?it/s]"
      ]
     },
     "metadata": {},
     "output_type": "display_data"
    },
    {
     "data": {
      "application/vnd.jupyter.widget-view+json": {
       "model_id": "8e675870e617489c94d050647808e56e",
       "version_major": 2,
       "version_minor": 0
      },
      "text/plain": [
       "Export report to file:   0%|          | 0/1 [00:00<?, ?it/s]"
      ]
     },
     "metadata": {},
     "output_type": "display_data"
    }
   ],
   "source": [
    "# Sample 30% of the data\n",
    "sampled_df = sessil_df.sample(frac=0.1)\n",
    "\n",
    "# Generate the profile report on the sampled data\n",
    "profile_10 = ProfileReport(sampled_df, title='Pandas Profiling Report (0.1 sample)', explorative=True)\n",
    "\n",
    "profile_10.to_file(\"./reports/report_10.html\")"
   ]
  },
  {
   "cell_type": "code",
   "execution_count": 10,
   "metadata": {},
   "outputs": [
    {
     "data": {
      "application/vnd.jupyter.widget-view+json": {
       "model_id": "d57104388b0c40248af85f0265c6380e",
       "version_major": 2,
       "version_minor": 0
      },
      "text/plain": [
       "Summarize dataset:   0%|          | 0/5 [00:00<?, ?it/s]"
      ]
     },
     "metadata": {},
     "output_type": "display_data"
    },
    {
     "data": {
      "application/vnd.jupyter.widget-view+json": {
       "model_id": "14fd915a18a2408c8f3b247b3ccea35e",
       "version_major": 2,
       "version_minor": 0
      },
      "text/plain": [
       "Generate report structure:   0%|          | 0/1 [00:00<?, ?it/s]"
      ]
     },
     "metadata": {},
     "output_type": "display_data"
    },
    {
     "data": {
      "application/vnd.jupyter.widget-view+json": {
       "model_id": "16f6bda75cc54578a61c4b9ba35311c3",
       "version_major": 2,
       "version_minor": 0
      },
      "text/plain": [
       "Render HTML:   0%|          | 0/1 [00:00<?, ?it/s]"
      ]
     },
     "metadata": {},
     "output_type": "display_data"
    },
    {
     "data": {
      "application/vnd.jupyter.widget-view+json": {
       "model_id": "6f5679ebd2ca4eb9b69c5edee13b6de5",
       "version_major": 2,
       "version_minor": 0
      },
      "text/plain": [
       "Export report to file:   0%|          | 0/1 [00:00<?, ?it/s]"
      ]
     },
     "metadata": {},
     "output_type": "display_data"
    }
   ],
   "source": [
    "# Generate the profile report on the sampled data\n",
    "profile_10_non_explorative = ProfileReport(sampled_df, title='Pandas Profiling Report (0.1 sample)')\n",
    "\n",
    "profile_10_non_explorative.to_file(\"./reports/report_10_non_explorative.html\")"
   ]
  },
  {
   "cell_type": "code",
   "execution_count": 12,
   "metadata": {},
   "outputs": [
    {
     "data": {
      "application/vnd.jupyter.widget-view+json": {
       "model_id": "7ce1a533a2dc449e864c7a24f691d172",
       "version_major": 2,
       "version_minor": 0
      },
      "text/plain": [
       "Summarize dataset:   0%|          | 0/5 [00:00<?, ?it/s]"
      ]
     },
     "metadata": {},
     "output_type": "display_data"
    },
    {
     "data": {
      "application/vnd.jupyter.widget-view+json": {
       "model_id": "9d2700d06a474a408801aaa151c33fec",
       "version_major": 2,
       "version_minor": 0
      },
      "text/plain": [
       "Generate report structure:   0%|          | 0/1 [00:00<?, ?it/s]"
      ]
     },
     "metadata": {},
     "output_type": "display_data"
    },
    {
     "data": {
      "application/vnd.jupyter.widget-view+json": {
       "model_id": "d75373d66bf248149857aa57b56eac30",
       "version_major": 2,
       "version_minor": 0
      },
      "text/plain": [
       "Render HTML:   0%|          | 0/1 [00:00<?, ?it/s]"
      ]
     },
     "metadata": {},
     "output_type": "display_data"
    },
    {
     "data": {
      "application/vnd.jupyter.widget-view+json": {
       "model_id": "2f100333db494bd59097c3a76b548176",
       "version_major": 2,
       "version_minor": 0
      },
      "text/plain": [
       "Export report to file:   0%|          | 0/1 [00:00<?, ?it/s]"
      ]
     },
     "metadata": {},
     "output_type": "display_data"
    }
   ],
   "source": [
    "# Generate the profile report on the sampled data\n",
    "profile_10_non_explorative_low = ProfileReport(sampled_df, title='Pandas Profiling Report (0.1 sample)',\n",
    "                                               minimal=True)\n",
    "\n",
    "profile_10_non_explorative_low.to_file(\"./reports/report_10_non_explorative_low.html\")"
   ]
  },
  {
   "cell_type": "code",
   "execution_count": 13,
   "metadata": {},
   "outputs": [
    {
     "data": {
      "application/vnd.jupyter.widget-view+json": {
       "model_id": "c047045f921e46b8a5f548b56612f40e",
       "version_major": 2,
       "version_minor": 0
      },
      "text/plain": [
       "Summarize dataset:   0%|          | 0/5 [00:00<?, ?it/s]"
      ]
     },
     "metadata": {},
     "output_type": "display_data"
    },
    {
     "data": {
      "application/vnd.jupyter.widget-view+json": {
       "model_id": "8f52812a74ad4ca1b8cd206c60d796df",
       "version_major": 2,
       "version_minor": 0
      },
      "text/plain": [
       "Generate report structure:   0%|          | 0/1 [00:00<?, ?it/s]"
      ]
     },
     "metadata": {},
     "output_type": "display_data"
    },
    {
     "data": {
      "application/vnd.jupyter.widget-view+json": {
       "model_id": "98409376b94547eab68efa19c9da3013",
       "version_major": 2,
       "version_minor": 0
      },
      "text/plain": [
       "Render HTML:   0%|          | 0/1 [00:00<?, ?it/s]"
      ]
     },
     "metadata": {},
     "output_type": "display_data"
    },
    {
     "data": {
      "application/vnd.jupyter.widget-view+json": {
       "model_id": "ee8bbc40cb524c67b43e96c255c50572",
       "version_major": 2,
       "version_minor": 0
      },
      "text/plain": [
       "Export report to file:   0%|          | 0/1 [00:00<?, ?it/s]"
      ]
     },
     "metadata": {},
     "output_type": "display_data"
    }
   ],
   "source": [
    "# Generate the profile report on the sampled data\n",
    "profile_non_explorative_low = ProfileReport(sessil_df, title='Pandas Profiling Report (0.1 sample)',\n",
    "                                            minimal=True)\n",
    "\n",
    "profile_non_explorative_low.to_file(\"./reports/report_non_explorative_low.html\")"
   ]
  }
 ],
 "metadata": {
  "kernelspec": {
   "display_name": "Python 3.9.7 ('wdl_2023')",
   "language": "python",
   "name": "python3"
  },
  "language_info": {
   "codemirror_mode": {
    "name": "ipython",
    "version": 3
   },
   "file_extension": ".py",
   "mimetype": "text/x-python",
   "name": "python",
   "nbconvert_exporter": "python",
   "pygments_lexer": "ipython3",
   "version": "3.9.16"
  },
  "orig_nbformat": 4,
  "vscode": {
   "interpreter": {
    "hash": "a2998e545da6f5008f660c7019b2417e500238568300bca113b2dbb598609828"
   }
  }
 },
 "nbformat": 4,
 "nbformat_minor": 2
}
